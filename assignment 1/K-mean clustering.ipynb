{
 "cells": [
  {
   "cell_type": "code",
   "execution_count": 1,
   "metadata": {},
   "outputs": [],
   "source": [
    "import pandas as pd\n",
    "import numpy as np\n",
    "import matplotlib.pyplot as plt\n",
    "import os\n",
    "import statistics as st"
   ]
  },
  {
   "cell_type": "code",
   "execution_count": 2,
   "metadata": {},
   "outputs": [],
   "source": [
    "k=3"
   ]
  },
  {
   "cell_type": "code",
   "execution_count": 3,
   "metadata": {},
   "outputs": [],
   "source": [
    "df = pd.read_csv('cluster_T2.csv',header=None)"
   ]
  },
  {
   "cell_type": "code",
   "execution_count": 4,
   "metadata": {},
   "outputs": [
    {
     "data": {
      "text/plain": [
       "pandas.core.frame.DataFrame"
      ]
     },
     "execution_count": 4,
     "metadata": {},
     "output_type": "execute_result"
    }
   ],
   "source": [
    "type(df)"
   ]
  },
  {
   "cell_type": "code",
   "execution_count": 5,
   "metadata": {},
   "outputs": [
    {
     "data": {
      "text/html": [
       "<div>\n",
       "<style scoped>\n",
       "    .dataframe tbody tr th:only-of-type {\n",
       "        vertical-align: middle;\n",
       "    }\n",
       "\n",
       "    .dataframe tbody tr th {\n",
       "        vertical-align: top;\n",
       "    }\n",
       "\n",
       "    .dataframe thead th {\n",
       "        text-align: right;\n",
       "    }\n",
       "</style>\n",
       "<table border=\"1\" class=\"dataframe\">\n",
       "  <thead>\n",
       "    <tr style=\"text-align: right;\">\n",
       "      <th></th>\n",
       "      <th>0</th>\n",
       "      <th>1</th>\n",
       "    </tr>\n",
       "  </thead>\n",
       "  <tbody>\n",
       "    <tr>\n",
       "      <th>0</th>\n",
       "      <td>16.861644</td>\n",
       "      <td>333.578385</td>\n",
       "    </tr>\n",
       "    <tr>\n",
       "      <th>1</th>\n",
       "      <td>17.288813</td>\n",
       "      <td>335.227181</td>\n",
       "    </tr>\n",
       "    <tr>\n",
       "      <th>2</th>\n",
       "      <td>20.406209</td>\n",
       "      <td>400.570303</td>\n",
       "    </tr>\n",
       "    <tr>\n",
       "      <th>3</th>\n",
       "      <td>20.103731</td>\n",
       "      <td>399.650578</td>\n",
       "    </tr>\n",
       "    <tr>\n",
       "      <th>4</th>\n",
       "      <td>18.229478</td>\n",
       "      <td>380.078280</td>\n",
       "    </tr>\n",
       "  </tbody>\n",
       "</table>\n",
       "</div>"
      ],
      "text/plain": [
       "           0           1\n",
       "0  16.861644  333.578385\n",
       "1  17.288813  335.227181\n",
       "2  20.406209  400.570303\n",
       "3  20.103731  399.650578\n",
       "4  18.229478  380.078280"
      ]
     },
     "execution_count": 5,
     "metadata": {},
     "output_type": "execute_result"
    }
   ],
   "source": [
    "df.head()"
   ]
  },
  {
   "cell_type": "code",
   "execution_count": 35,
   "metadata": {},
   "outputs": [
    {
     "data": {
      "image/png": "[encoded data removed]",
      "text/plain": [
       "<Figure size 432x288 with 1 Axes>"
      ]
     },
     "metadata": {
      "needs_background": "light"
     },
     "output_type": "display_data"
    },
    {
     "data": {
      "text/plain": [
       "<Figure size 432x288 with 0 Axes>"
      ]
     },
     "metadata": {},
     "output_type": "display_data"
    }
   ],
   "source": [
    "plt.scatter(df[0],df[1], s=10, cmap = 'cool')\n",
    "plt.show()\n",
    "plt.savefig('q1initial.png')"
   ]
  },
  {
   "cell_type": "code",
   "execution_count": 6,
   "metadata": {},
   "outputs": [
    {
     "data": {
      "image/png": "[encoded data removed]",
      "text/plain": [
       "<Figure size 432x288 with 1 Axes>"
      ]
     },
     "metadata": {
      "needs_background": "light"
     },
     "output_type": "display_data"
    }
   ],
   "source": [
    "data = df.values\n",
    "a=(max(data[:,0])-min(data[:,0]))\n",
    "b=(max(data[:,1])-min(data[:,1]))\n",
    "am=(sum(data[:,0])/len(data[:,0]))\n",
    "bm=(sum(data[:,1])/len(data[:,1]))\n",
    "data[:,0]=(data[:,0]-(sum(data[:,0])/len(data[:,0])))/(max(data[:,0])-min(data[:,0]))\n",
    "data[:,1]=(data[:,1]-(sum(data[:,1])/len(data[:,1])))/(max(data[:,1])-min(data[:,1]))\n",
    "data\n",
    "plt.scatter(data[:,0],data[:,1],s=5)\n",
    "plt.show()"
   ]
  },
  {
   "cell_type": "code",
   "execution_count": 7,
   "metadata": {},
   "outputs": [
    {
     "name": "stdout",
     "output_type": "stream",
     "text": [
      "[array([-0.17327327,  0.08325717]), array([0.35821494, 0.41601677]), array([-0.32175903, -0.5475089 ])]\n"
     ]
    }
   ],
   "source": [
    "arr = np.arange(len(df))\n",
    "np.random.shuffle(arr)\n",
    "seeds=[]\n",
    "for x in arr[0:k]:\n",
    "    seeds.append(data[x])\n",
    "print(seeds)"
   ]
  },
  {
   "cell_type": "code",
   "execution_count": 8,
   "metadata": {},
   "outputs": [],
   "source": [
    "def distance(a,b):\n",
    "    return ((a[0]-b[0])**(2)+(a[1]-b[1])**(2))**(0.5)\n",
    "def cmpare(a,b):\n",
    "    s=0\n",
    "    if len(a)==0 or len(b) == 0:\n",
    "        return 1\n",
    "    for x in range(len(a)):\n",
    "        s+=distance(a[x],b[x])\n",
    "    return s\n"
   ]
  },
  {
   "cell_type": "code",
   "execution_count": 9,
   "metadata": {},
   "outputs": [
    {
     "name": "stdout",
     "output_type": "stream",
     "text": [
      "0.33895108240721 0.40442202020857215\n",
      "0.33895108240721 0.40442202020857215\n"
     ]
    }
   ],
   "source": [
    "new_seeds=[]\n",
    "while(cmpare(new_seeds,seeds) >1e-20):\n",
    "    if len(new_seeds)!=0:\n",
    "        seeds=new_seeds\n",
    "        new_seeds=[]\n",
    "    clusters=[]\n",
    "    for s in range(k):\n",
    "        clusters.append([0,0,0])\n",
    "    for y in data:\n",
    "        temp=[]\n",
    "        for x in seeds:\n",
    "            temp.append(distance(x,y))\n",
    "        m=temp.index(min(temp))\n",
    "        clusters[m][0]+=y[0]\n",
    "        clusters[m][1]+=y[1]\n",
    "        clusters[m][2]+=1\n",
    "    new_seeds=[]\n",
    "    for x in clusters:\n",
    "        temp=[]\n",
    "        temp.append(x[0]/x[2])\n",
    "        temp.append(x[1]/x[2])\n",
    "        new_seeds.append(temp)\n",
    "    print(new_seeds[1][0],new_seeds[1][1])\n"
   ]
  },
  {
   "cell_type": "code",
   "execution_count": 10,
   "metadata": {},
   "outputs": [
    {
     "data": {
      "text/plain": [
       "[[-0.05241575630507338, 0.08734374602858859],\n",
       " [0.33895108240721, 0.40442202020857215],\n",
       " [-0.30616401621849615, -0.5188867241766699]]"
      ]
     },
     "execution_count": 10,
     "metadata": {},
     "output_type": "execute_result"
    }
   ],
   "source": [
    "new_seeds"
   ]
  },
  {
   "cell_type": "code",
   "execution_count": 11,
   "metadata": {},
   "outputs": [],
   "source": [
    "c=[]\n",
    "for x in data:\n",
    "    temp=[]\n",
    "    for y in seeds:\n",
    "        temp.append(distance(x,y))\n",
    "    m=temp.index(min(temp))\n",
    "    c.append(m)\n",
    "df['c']=c\n"
   ]
  },
  {
   "cell_type": "code",
   "execution_count": 12,
   "metadata": {},
   "outputs": [
    {
     "data": {
      "text/plain": [
       "4.086592920000001"
      ]
     },
     "execution_count": 12,
     "metadata": {},
     "output_type": "execute_result"
    }
   ],
   "source": [
    "a"
   ]
  },
  {
   "cell_type": "code",
   "execution_count": 13,
   "metadata": {},
   "outputs": [
    {
     "data": {
      "image/png": "[encoded data removed]",
      "text/plain": [
       "<Figure size 432x288 with 1 Axes>"
      ]
     },
     "metadata": {
      "needs_background": "light"
     },
     "output_type": "display_data"
    }
   ],
   "source": [
    "plt.scatter(df[0]*a+am, df[1]*b+bm, c=df['c'], s=10,cmap = 'cool')\n",
    "plt.show()"
   ]
  },
  {
   "cell_type": "code",
   "execution_count": null,
   "metadata": {},
   "outputs": [],
   "source": []
  },
  {
   "cell_type": "code",
   "execution_count": null,
   "metadata": {},
   "outputs": [],
   "source": []
  },
  {
   "cell_type": "code",
   "execution_count": null,
   "metadata": {},
   "outputs": [],
   "source": []
  },
  {
   "cell_type": "code",
   "execution_count": null,
   "metadata": {},
   "outputs": [],
   "source": []
  },
  {
   "cell_type": "code",
   "execution_count": null,
   "metadata": {},
   "outputs": [],
   "source": []
  }
 ],
 "metadata": {
  "kernelspec": {
   "display_name": "Python 3",
   "language": "python",
   "name": "python3"
  },
  "language_info": {
   "codemirror_mode": {
    "name": "ipython",
    "version": 3
   },
   "file_extension": ".py",
   "mimetype": "text/x-python",
   "name": "python",
   "nbconvert_exporter": "python",
   "pygments_lexer": "ipython3",
   "version": "3.6.7"
  }
 },
 "nbformat": 4,
 "nbformat_minor": 2
}
