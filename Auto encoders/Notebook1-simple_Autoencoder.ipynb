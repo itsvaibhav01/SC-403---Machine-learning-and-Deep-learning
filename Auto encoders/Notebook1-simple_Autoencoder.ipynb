{
 "cells": [
  {
   "cell_type": "markdown",
   "metadata": {},
   "source": [
    "# Simple Autoencoders on MNIST\n",
    "## Feedforword NN"
   ]
  },
  {
   "cell_type": "code",
   "execution_count": 1,
   "metadata": {},
   "outputs": [
    {
     "name": "stderr",
     "output_type": "stream",
     "text": [
      "Using TensorFlow backend.\n"
     ]
    }
   ],
   "source": [
    "from keras.datasets import mnist\n",
    "from keras.models import Sequential, Model\n",
    "from keras.layers import Dense\n",
    "import numpy as np\n",
    "import h5py\n",
    "from pathlib import Path\n",
    "import matplotlib.pyplot as plt\n",
    "\n",
    "from keras import backend as keras_backend\n",
    "keras_backend.set_image_data_format('channels_last')"
   ]
  },
  {
   "cell_type": "code",
   "execution_count": 2,
   "metadata": {},
   "outputs": [
    {
     "name": "stdout",
     "output_type": "stream",
     "text": [
      "X_train.shape =  (60000, 784)  X_test.shape =  (10000, 784)\n"
     ]
    }
   ],
   "source": [
    "random_seed = 42\n",
    "np.random.seed(random_seed)\n",
    "\n",
    "# Read MNIST data. We won't be using the y_train or y_test data\n",
    "(X_train, y_train), (X_test, y_test) = mnist.load_data()\n",
    "pixels_per_image = np.prod(X_train.shape[1:])\n",
    "\n",
    "# Cast values into the current floating-point type\n",
    "X_train = keras_backend.cast_to_floatx(X_train)\n",
    "X_test = keras_backend.cast_to_floatx(X_test)\n",
    "\n",
    "# Normalize the range from [0,255] to [0,1]\n",
    "X_train /= 255.\n",
    "X_test /= 255.\n",
    "\n",
    "# Reshape the data into a grid with one row per sample, each row 784 (28*28) pixels\n",
    "X_train = X_train.reshape((len(X_train), pixels_per_image))\n",
    "X_test = X_test.reshape((len(X_test), pixels_per_image))\n",
    "\n",
    "print(\"X_train.shape = \",X_train.shape, \" X_test.shape = \",X_test.shape)"
   ]
  },
  {
   "cell_type": "code",
   "execution_count": 3,
   "metadata": {},
   "outputs": [],
   "source": [
    "def draw_predictions_set(predictions):\n",
    "    plt.figure(figsize=(8, 4))\n",
    "    for i in range(5):\n",
    "        plt.subplot(2, 5, i+1)\n",
    "        plt.imshow(X_test[i].reshape(28, 28), vmin=0, vmax=1, cmap=\"gray\")\n",
    "        ax = plt.gca()\n",
    "        ax.get_xaxis().set_visible(False)\n",
    "        ax.get_yaxis().set_visible(False)\n",
    "        plt.subplot(2, 5, i+6)\n",
    "        plt.imshow(predictions[i].reshape(28, 28), vmin=0, vmax=1, cmap=\"gray\")\n",
    "        ax = plt.gca()\n",
    "        ax.get_xaxis().set_visible(False)\n",
    "        ax.get_yaxis().set_visible(False)\n",
    "    plt.tight_layout()\n",
    "    plt.show()"
   ]
  },
  {
   "cell_type": "code",
   "execution_count": 5,
   "metadata": {},
   "outputs": [
    {
     "name": "stdout",
     "output_type": "stream",
     "text": [
      "Train on 60000 samples, validate on 10000 samples\n",
      "Epoch 1/50\n",
      "2s - loss: 0.3315 - val_loss: 0.2626\n",
      "Epoch 2/50\n",
      "2s - loss: 0.2452 - val_loss: 0.2257\n",
      "Epoch 3/50\n",
      "2s - loss: 0.2145 - val_loss: 0.2024\n",
      "Epoch 4/50\n",
      "2s - loss: 0.1959 - val_loss: 0.1874\n",
      "Epoch 5/50\n",
      "2s - loss: 0.1836 - val_loss: 0.1772\n",
      "Epoch 6/50\n",
      "2s - loss: 0.1745 - val_loss: 0.1690\n",
      "Epoch 7/50\n",
      "2s - loss: 0.1668 - val_loss: 0.1620\n",
      "Epoch 8/50\n",
      "2s - loss: 0.1602 - val_loss: 0.1561\n",
      "Epoch 9/50\n",
      "2s - loss: 0.1549 - val_loss: 0.1514\n",
      "Epoch 10/50\n",
      "2s - loss: 0.1505 - val_loss: 0.1472\n",
      "Epoch 11/50\n",
      "2s - loss: 0.1467 - val_loss: 0.1436\n",
      "Epoch 12/50\n",
      "2s - loss: 0.1435 - val_loss: 0.1405\n",
      "Epoch 13/50\n",
      "2s - loss: 0.1406 - val_loss: 0.1378\n",
      "Epoch 14/50\n",
      "2s - loss: 0.1380 - val_loss: 0.1353\n",
      "Epoch 15/50\n",
      "2s - loss: 0.1357 - val_loss: 0.1330\n",
      "Epoch 16/50\n",
      "2s - loss: 0.1336 - val_loss: 0.1309\n",
      "Epoch 17/50\n",
      "2s - loss: 0.1316 - val_loss: 0.1291\n",
      "Epoch 18/50\n",
      "2s - loss: 0.1299 - val_loss: 0.1275\n",
      "Epoch 19/50\n",
      "2s - loss: 0.1283 - val_loss: 0.1260\n",
      "Epoch 20/50\n",
      "2s - loss: 0.1269 - val_loss: 0.1246\n",
      "Epoch 21/50\n",
      "2s - loss: 0.1257 - val_loss: 0.1235\n",
      "Epoch 22/50\n",
      "2s - loss: 0.1247 - val_loss: 0.1226\n",
      "Epoch 23/50\n",
      "2s - loss: 0.1238 - val_loss: 0.1218\n",
      "Epoch 24/50\n",
      "2s - loss: 0.1231 - val_loss: 0.1210\n",
      "Epoch 25/50\n",
      "2s - loss: 0.1225 - val_loss: 0.1204\n",
      "Epoch 26/50\n",
      "2s - loss: 0.1219 - val_loss: 0.1199\n",
      "Epoch 27/50\n",
      "2s - loss: 0.1215 - val_loss: 0.1195\n",
      "Epoch 28/50\n",
      "2s - loss: 0.1211 - val_loss: 0.1191\n",
      "Epoch 29/50\n",
      "2s - loss: 0.1207 - val_loss: 0.1188\n",
      "Epoch 30/50\n",
      "2s - loss: 0.1204 - val_loss: 0.1185\n",
      "Epoch 31/50\n",
      "2s - loss: 0.1202 - val_loss: 0.1183\n",
      "Epoch 32/50\n",
      "2s - loss: 0.1199 - val_loss: 0.1181\n",
      "Epoch 33/50\n",
      "2s - loss: 0.1197 - val_loss: 0.1179\n",
      "Epoch 34/50\n",
      "2s - loss: 0.1195 - val_loss: 0.1177\n",
      "Epoch 35/50\n",
      "2s - loss: 0.1194 - val_loss: 0.1175\n",
      "Epoch 36/50\n",
      "2s - loss: 0.1192 - val_loss: 0.1174\n",
      "Epoch 37/50\n",
      "2s - loss: 0.1191 - val_loss: 0.1173\n",
      "Epoch 38/50\n",
      "2s - loss: 0.1190 - val_loss: 0.1171\n",
      "Epoch 39/50\n",
      "2s - loss: 0.1188 - val_loss: 0.1170\n",
      "Epoch 40/50\n",
      "2s - loss: 0.1187 - val_loss: 0.1170\n",
      "Epoch 41/50\n",
      "2s - loss: 0.1186 - val_loss: 0.1169\n",
      "Epoch 42/50\n",
      "2s - loss: 0.1186 - val_loss: 0.1168\n",
      "Epoch 43/50\n",
      "2s - loss: 0.1185 - val_loss: 0.1167\n",
      "Epoch 44/50\n",
      "2s - loss: 0.1184 - val_loss: 0.1166\n",
      "Epoch 45/50\n",
      "2s - loss: 0.1183 - val_loss: 0.1166\n",
      "Epoch 46/50\n",
      "2s - loss: 0.1182 - val_loss: 0.1165\n",
      "Epoch 47/50\n",
      "2s - loss: 0.1182 - val_loss: 0.1165\n",
      "Epoch 48/50\n",
      "2s - loss: 0.1181 - val_loss: 0.1164\n",
      "Epoch 49/50\n",
      "2s - loss: 0.1181 - val_loss: 0.1163\n",
      "Epoch 50/50\n",
      "2s - loss: 0.1180 - val_loss: 0.1163\n"
     ]
    },
    {
     "data": {
      "text/plain": [
       "<keras.callbacks.History at 0x1c7a95a2748>"
      ]
     },
     "execution_count": 5,
     "metadata": {},
     "output_type": "execute_result"
    }
   ],
   "source": [
    "# Build and train our first autoencoder\n",
    "num_latent_vars = 20\n",
    "\n",
    "AE1 = Sequential()\n",
    "AE1.add(Dense(num_latent_vars, input_dim=pixels_per_image, activation='relu'))\n",
    "AE1.add(Dense(pixels_per_image, activation='sigmoid'))\n",
    "AE1.compile(optimizer='adadelta', loss='binary_crossentropy')\n",
    "\n",
    "weights_filename = \"NB2-AE1-weights\"\n",
    "np.random.seed(42)\n",
    "AE1.fit(X_train, X_train,\n",
    "        epochs=50, batch_size=128, shuffle=True,\n",
    "        verbose=2,\n",
    "        validation_data=(X_test, X_test))\n",
    "    "
   ]
  },
  {
   "cell_type": "code",
   "execution_count": 6,
   "metadata": {},
   "outputs": [
    {
     "data": {
      "image/png": "[encoded data removed]",
      "text/plain": [
       "<matplotlib.figure.Figure at 0x1c7a93880b8>"
      ]
     },
     "metadata": {
      "needs_background": "light"
     },
     "output_type": "display_data"
    }
   ],
   "source": [
    "predictions1 = AE1.predict(X_test)\n",
    "draw_predictions_set(predictions1)"
   ]
  },
  {
   "cell_type": "code",
   "execution_count": 7,
   "metadata": {},
   "outputs": [
    {
     "name": "stdout",
     "output_type": "stream",
     "text": [
      "Train on 60000 samples, validate on 10000 samples\n",
      "Epoch 1/50\n",
      "2s - loss: 0.3441 - val_loss: 0.2689\n",
      "Epoch 2/50\n",
      "2s - loss: 0.2581 - val_loss: 0.2418\n",
      "Epoch 3/50\n",
      "2s - loss: 0.2294 - val_loss: 0.2169\n",
      "Epoch 4/50\n",
      "2s - loss: 0.2115 - val_loss: 0.2037\n",
      "Epoch 5/50\n",
      "2s - loss: 0.2005 - val_loss: 0.1947\n",
      "Epoch 6/50\n",
      "2s - loss: 0.1930 - val_loss: 0.1885\n",
      "Epoch 7/50\n",
      "2s - loss: 0.1877 - val_loss: 0.1841\n",
      "Epoch 8/50\n",
      "2s - loss: 0.1840 - val_loss: 0.1810\n",
      "Epoch 9/50\n",
      "2s - loss: 0.1815 - val_loss: 0.1791\n",
      "Epoch 10/50\n",
      "2s - loss: 0.1798 - val_loss: 0.1775\n",
      "Epoch 11/50\n",
      "2s - loss: 0.1785 - val_loss: 0.1763\n",
      "Epoch 12/50\n",
      "2s - loss: 0.1774 - val_loss: 0.1753\n",
      "Epoch 13/50\n",
      "2s - loss: 0.1764 - val_loss: 0.1744\n",
      "Epoch 14/50\n",
      "2s - loss: 0.1756 - val_loss: 0.1736\n",
      "Epoch 15/50\n",
      "2s - loss: 0.1747 - val_loss: 0.1727\n",
      "Epoch 16/50\n",
      "2s - loss: 0.1740 - val_loss: 0.1720\n",
      "Epoch 17/50\n",
      "2s - loss: 0.1733 - val_loss: 0.1713\n",
      "Epoch 18/50\n",
      "2s - loss: 0.1726 - val_loss: 0.1706\n",
      "Epoch 19/50\n",
      "2s - loss: 0.1719 - val_loss: 0.1700\n",
      "Epoch 20/50\n",
      "2s - loss: 0.1713 - val_loss: 0.1694\n",
      "Epoch 21/50\n",
      "2s - loss: 0.1708 - val_loss: 0.1689\n",
      "Epoch 22/50\n",
      "2s - loss: 0.1702 - val_loss: 0.1684\n",
      "Epoch 23/50\n",
      "3s - loss: 0.1698 - val_loss: 0.1679\n",
      "Epoch 24/50\n",
      "2s - loss: 0.1693 - val_loss: 0.1674\n",
      "Epoch 25/50\n",
      "2s - loss: 0.1689 - val_loss: 0.1670\n",
      "Epoch 26/50\n",
      "2s - loss: 0.1685 - val_loss: 0.1667\n",
      "Epoch 27/50\n",
      "2s - loss: 0.1682 - val_loss: 0.1664\n",
      "Epoch 28/50\n",
      "2s - loss: 0.1679 - val_loss: 0.1661\n",
      "Epoch 29/50\n",
      "2s - loss: 0.1676 - val_loss: 0.1657\n",
      "Epoch 30/50\n",
      "2s - loss: 0.1673 - val_loss: 0.1655\n",
      "Epoch 31/50\n",
      "2s - loss: 0.1670 - val_loss: 0.1652\n",
      "Epoch 32/50\n",
      "2s - loss: 0.1668 - val_loss: 0.1650\n",
      "Epoch 33/50\n",
      "2s - loss: 0.1666 - val_loss: 0.1648\n",
      "Epoch 34/50\n",
      "2s - loss: 0.1664 - val_loss: 0.1646\n",
      "Epoch 35/50\n",
      "2s - loss: 0.1662 - val_loss: 0.1644\n",
      "Epoch 36/50\n",
      "2s - loss: 0.1660 - val_loss: 0.1642\n",
      "Epoch 37/50\n",
      "2s - loss: 0.1659 - val_loss: 0.1642\n",
      "Epoch 38/50\n",
      "2s - loss: 0.1657 - val_loss: 0.1640\n",
      "Epoch 39/50\n",
      "1s - loss: 0.1656 - val_loss: 0.1638\n",
      "Epoch 40/50\n",
      "2s - loss: 0.1654 - val_loss: 0.1637\n",
      "Epoch 41/50\n",
      "2s - loss: 0.1653 - val_loss: 0.1636\n",
      "Epoch 42/50\n",
      "2s - loss: 0.1652 - val_loss: 0.1635\n",
      "Epoch 43/50\n",
      "2s - loss: 0.1651 - val_loss: 0.1634\n",
      "Epoch 44/50\n",
      "1s - loss: 0.1650 - val_loss: 0.1633\n",
      "Epoch 45/50\n",
      "2s - loss: 0.1649 - val_loss: 0.1632\n",
      "Epoch 46/50\n",
      "1s - loss: 0.1648 - val_loss: 0.1631\n",
      "Epoch 47/50\n",
      "1s - loss: 0.1647 - val_loss: 0.1631\n",
      "Epoch 48/50\n",
      "1s - loss: 0.1647 - val_loss: 0.1630\n",
      "Epoch 49/50\n",
      "1s - loss: 0.1646 - val_loss: 0.1629\n",
      "Epoch 50/50\n",
      "2s - loss: 0.1645 - val_loss: 0.1628\n"
     ]
    },
    {
     "data": {
      "text/plain": [
       "<keras.callbacks.History at 0x1c7b81397f0>"
      ]
     },
     "execution_count": 7,
     "metadata": {},
     "output_type": "execute_result"
    }
   ],
   "source": [
    "# Build and train our second, more compress-y autoencoder\n",
    "num_latent_vars = 10\n",
    "\n",
    "AE2 = Sequential()\n",
    "AE2.add(Dense(num_latent_vars, input_dim=pixels_per_image, activation='relu'))\n",
    "AE2.add(Dense(pixels_per_image, activation='sigmoid'))\n",
    "AE2.compile(optimizer='adadelta', loss='binary_crossentropy')\n",
    "\n",
    "weights_filename = \"NB2-AE2-weights\"\n",
    "np.random.seed(42)\n",
    "AE2.fit(X_train, X_train,\n",
    "        epochs=50, batch_size=128, shuffle=True,\n",
    "        verbose=2,\n",
    "        validation_data=(X_test, X_test))\n",
    "   "
   ]
  },
  {
   "cell_type": "code",
   "execution_count": 8,
   "metadata": {},
   "outputs": [
    {
     "data": {
      "image/png": "[encoded data removed]",
      "text/plain": [
       "<matplotlib.figure.Figure at 0x1c7b818c978>"
      ]
     },
     "metadata": {
      "needs_background": "light"
     },
     "output_type": "display_data"
    }
   ],
   "source": [
    "predictions2 = AE2.predict(X_test)\n",
    "draw_predictions_set(predictions2)"
   ]
  },
  {
   "cell_type": "code",
   "execution_count": 11,
   "metadata": {},
   "outputs": [
    {
     "name": "stdout",
     "output_type": "stream",
     "text": [
      "Train on 60000 samples, validate on 10000 samples\n",
      "Epoch 1/50\n",
      "2s - loss: 0.3456 - val_loss: 0.2717\n",
      "Epoch 2/50\n",
      "2s - loss: 0.2679 - val_loss: 0.2616\n",
      "Epoch 3/50\n",
      "2s - loss: 0.2576 - val_loss: 0.2535\n",
      "Epoch 4/50\n",
      "2s - loss: 0.2531 - val_loss: 0.2512\n",
      "Epoch 5/50\n",
      "1s - loss: 0.2510 - val_loss: 0.2480\n",
      "Epoch 6/50\n",
      "1s - loss: 0.2439 - val_loss: 0.2378\n",
      "Epoch 7/50\n",
      "2s - loss: 0.2375 - val_loss: 0.2347\n",
      "Epoch 8/50\n",
      "1s - loss: 0.2356 - val_loss: 0.2332\n",
      "Epoch 9/50\n",
      "1s - loss: 0.2342 - val_loss: 0.2321\n",
      "Epoch 10/50\n",
      "1s - loss: 0.2331 - val_loss: 0.2310\n",
      "Epoch 11/50\n",
      "1s - loss: 0.2322 - val_loss: 0.2301\n",
      "Epoch 12/50\n",
      "1s - loss: 0.2314 - val_loss: 0.2294\n",
      "Epoch 13/50\n",
      "1s - loss: 0.2307 - val_loss: 0.2287\n",
      "Epoch 14/50\n",
      "2s - loss: 0.2300 - val_loss: 0.2281\n",
      "Epoch 15/50\n",
      "2s - loss: 0.2294 - val_loss: 0.2276\n",
      "Epoch 16/50\n",
      "2s - loss: 0.2289 - val_loss: 0.2270\n",
      "Epoch 17/50\n",
      "2s - loss: 0.2283 - val_loss: 0.2264\n",
      "Epoch 18/50\n",
      "1s - loss: 0.2278 - val_loss: 0.2260\n",
      "Epoch 19/50\n",
      "1s - loss: 0.2274 - val_loss: 0.2255\n",
      "Epoch 20/50\n",
      "1s - loss: 0.2269 - val_loss: 0.2250\n",
      "Epoch 21/50\n",
      "1s - loss: 0.2265 - val_loss: 0.2247\n",
      "Epoch 22/50\n",
      "1s - loss: 0.2260 - val_loss: 0.2242\n",
      "Epoch 23/50\n",
      "2s - loss: 0.2257 - val_loss: 0.2239\n",
      "Epoch 24/50\n",
      "1s - loss: 0.2253 - val_loss: 0.2235\n",
      "Epoch 25/50\n",
      "1s - loss: 0.2249 - val_loss: 0.2232\n",
      "Epoch 26/50\n",
      "1s - loss: 0.2246 - val_loss: 0.2229\n",
      "Epoch 27/50\n",
      "1s - loss: 0.2243 - val_loss: 0.2226\n",
      "Epoch 28/50\n",
      "1s - loss: 0.2240 - val_loss: 0.2224\n",
      "Epoch 29/50\n",
      "2s - loss: 0.2238 - val_loss: 0.2221\n",
      "Epoch 30/50\n",
      "2s - loss: 0.2235 - val_loss: 0.2219\n",
      "Epoch 31/50\n",
      "2s - loss: 0.2233 - val_loss: 0.2217\n",
      "Epoch 32/50\n",
      "2s - loss: 0.2231 - val_loss: 0.2215\n",
      "Epoch 33/50\n",
      "1s - loss: 0.2229 - val_loss: 0.2214\n",
      "Epoch 34/50\n",
      "1s - loss: 0.2227 - val_loss: 0.2212\n",
      "Epoch 35/50\n",
      "1s - loss: 0.2226 - val_loss: 0.2211\n",
      "Epoch 36/50\n",
      "1s - loss: 0.2224 - val_loss: 0.2210\n",
      "Epoch 37/50\n",
      "1s - loss: 0.2223 - val_loss: 0.2209\n",
      "Epoch 38/50\n",
      "1s - loss: 0.2222 - val_loss: 0.2208\n",
      "Epoch 39/50\n",
      "1s - loss: 0.2221 - val_loss: 0.2207\n",
      "Epoch 40/50\n",
      "1s - loss: 0.2220 - val_loss: 0.2205\n",
      "Epoch 41/50\n",
      "1s - loss: 0.2218 - val_loss: 0.2205\n",
      "Epoch 42/50\n",
      "1s - loss: 0.2217 - val_loss: 0.2205\n",
      "Epoch 43/50\n",
      "1s - loss: 0.2217 - val_loss: 0.2204\n",
      "Epoch 44/50\n",
      "1s - loss: 0.2216 - val_loss: 0.2202\n",
      "Epoch 45/50\n",
      "1s - loss: 0.2215 - val_loss: 0.2202\n",
      "Epoch 46/50\n",
      "1s - loss: 0.2214 - val_loss: 0.2201\n",
      "Epoch 47/50\n",
      "1s - loss: 0.2213 - val_loss: 0.2200\n",
      "Epoch 48/50\n",
      "1s - loss: 0.2212 - val_loss: 0.2200\n",
      "Epoch 49/50\n",
      "1s - loss: 0.2211 - val_loss: 0.2199\n",
      "Epoch 50/50\n",
      "1s - loss: 0.2211 - val_loss: 0.2197\n"
     ]
    },
    {
     "data": {
      "text/plain": [
       "<keras.callbacks.History at 0x1c7b7e30f60>"
      ]
     },
     "execution_count": 11,
     "metadata": {},
     "output_type": "execute_result"
    }
   ],
   "source": [
    "# Build and train our third, super compress-y autoencoder\n",
    "num_latent_vars = 3\n",
    "\n",
    "AE3 = Sequential()\n",
    "AE3.add(Dense(num_latent_vars, input_dim=pixels_per_image, activation='relu'))\n",
    "AE3.add(Dense(pixels_per_image, activation='sigmoid'))\n",
    "AE3.compile(optimizer='adadelta', loss='binary_crossentropy')\n",
    "\n",
    "np.random.seed(42)\n",
    "AE3.fit(X_train, X_train,\n",
    "        epochs=50, batch_size=128, shuffle=True,\n",
    "        verbose=2,\n",
    "        validation_data=(X_test, X_test))\n",
    "   "
   ]
  },
  {
   "cell_type": "code",
   "execution_count": 12,
   "metadata": {},
   "outputs": [
    {
     "data": {
      "image/png": "[encoded data removed]",
      "text/plain": [
       "<matplotlib.figure.Figure at 0x1c7b7cdb0f0>"
      ]
     },
     "metadata": {
      "needs_background": "light"
     },
     "output_type": "display_data"
    }
   ],
   "source": [
    "predictions3 = AE3.predict(X_test)\n",
    "draw_predictions_set(predictions3)"
   ]
  },
  {
   "cell_type": "markdown",
   "metadata": {},
   "source": [
    "## A better autoencoder"
   ]
  },
  {
   "cell_type": "code",
   "execution_count": 13,
   "metadata": {},
   "outputs": [
    {
     "name": "stdout",
     "output_type": "stream",
     "text": [
      "Train on 60000 samples, validate on 10000 samples\n",
      "Epoch 1/50\n",
      "15s - loss: 0.2926 - val_loss: 0.2354\n",
      "Epoch 2/50\n",
      "14s - loss: 0.2120 - val_loss: 0.1906\n",
      "Epoch 3/50\n",
      "15s - loss: 0.1824 - val_loss: 0.1728\n",
      "Epoch 4/50\n",
      "15s - loss: 0.1660 - val_loss: 0.1582\n",
      "Epoch 5/50\n",
      "15s - loss: 0.1543 - val_loss: 0.1490\n",
      "Epoch 6/50\n",
      "15s - loss: 0.1456 - val_loss: 0.1405\n",
      "Epoch 7/50\n",
      "15s - loss: 0.1383 - val_loss: 0.1327\n",
      "Epoch 8/50\n",
      "15s - loss: 0.1317 - val_loss: 0.1268\n",
      "Epoch 9/50\n",
      "15s - loss: 0.1268 - val_loss: 0.1213\n",
      "Epoch 10/50\n",
      "15s - loss: 0.1229 - val_loss: 0.1190\n",
      "Epoch 11/50\n",
      "15s - loss: 0.1195 - val_loss: 0.1159\n",
      "Epoch 12/50\n",
      "15s - loss: 0.1167 - val_loss: 0.1137\n",
      "Epoch 13/50\n",
      "15s - loss: 0.1147 - val_loss: 0.1123\n",
      "Epoch 14/50\n",
      "15s - loss: 0.1128 - val_loss: 0.1104\n",
      "Epoch 15/50\n",
      "16s - loss: 0.1111 - val_loss: 0.1099\n",
      "Epoch 16/50\n",
      "15s - loss: 0.1099 - val_loss: 0.1078\n",
      "Epoch 17/50\n",
      "15s - loss: 0.1084 - val_loss: 0.1070\n",
      "Epoch 18/50\n",
      "16s - loss: 0.1073 - val_loss: 0.1046\n",
      "Epoch 19/50\n",
      "17s - loss: 0.1062 - val_loss: 0.1041\n",
      "Epoch 20/50\n",
      "17s - loss: 0.1053 - val_loss: 0.1032\n",
      "Epoch 21/50\n",
      "17s - loss: 0.1043 - val_loss: 0.1023\n",
      "Epoch 22/50\n",
      "17s - loss: 0.1034 - val_loss: 0.1014\n",
      "Epoch 23/50\n",
      "18s - loss: 0.1028 - val_loss: 0.1020\n",
      "Epoch 24/50\n",
      "18s - loss: 0.1019 - val_loss: 0.1009\n",
      "Epoch 25/50\n",
      "17s - loss: 0.1013 - val_loss: 0.0992\n",
      "Epoch 26/50\n",
      "17s - loss: 0.1007 - val_loss: 0.0985\n",
      "Epoch 27/50\n",
      "17s - loss: 0.1001 - val_loss: 0.0992\n",
      "Epoch 28/50\n",
      "17s - loss: 0.0996 - val_loss: 0.0987\n",
      "Epoch 29/50\n",
      "18s - loss: 0.0990 - val_loss: 0.0971\n",
      "Epoch 30/50\n",
      "17s - loss: 0.0985 - val_loss: 0.0971\n",
      "Epoch 31/50\n",
      "18s - loss: 0.0982 - val_loss: 0.0970\n",
      "Epoch 32/50\n",
      "18s - loss: 0.0977 - val_loss: 0.0966\n",
      "Epoch 33/50\n",
      "17s - loss: 0.0972 - val_loss: 0.0964\n",
      "Epoch 34/50\n",
      "17s - loss: 0.0969 - val_loss: 0.0950\n",
      "Epoch 35/50\n",
      "17s - loss: 0.0965 - val_loss: 0.0950\n",
      "Epoch 36/50\n",
      "17s - loss: 0.0962 - val_loss: 0.0957\n",
      "Epoch 37/50\n",
      "18s - loss: 0.0958 - val_loss: 0.0953\n",
      "Epoch 38/50\n",
      "17s - loss: 0.0954 - val_loss: 0.0942\n",
      "Epoch 39/50\n",
      "18s - loss: 0.0951 - val_loss: 0.0939\n",
      "Epoch 40/50\n",
      "17s - loss: 0.0948 - val_loss: 0.0944\n",
      "Epoch 41/50\n",
      "17s - loss: 0.0945 - val_loss: 0.0944\n",
      "Epoch 42/50\n",
      "17s - loss: 0.0943 - val_loss: 0.0939\n",
      "Epoch 43/50\n",
      "17s - loss: 0.0940 - val_loss: 0.0932\n",
      "Epoch 44/50\n",
      "17s - loss: 0.0937 - val_loss: 0.0941\n",
      "Epoch 45/50\n",
      "16s - loss: 0.0934 - val_loss: 0.0921\n",
      "Epoch 46/50\n",
      "16s - loss: 0.0933 - val_loss: 0.0930\n",
      "Epoch 47/50\n",
      "16s - loss: 0.0930 - val_loss: 0.0922\n",
      "Epoch 48/50\n",
      "16s - loss: 0.0927 - val_loss: 0.0926\n",
      "Epoch 49/50\n",
      "16s - loss: 0.0925 - val_loss: 0.0923\n",
      "Epoch 50/50\n",
      "16s - loss: 0.0924 - val_loss: 0.0921\n"
     ]
    },
    {
     "data": {
      "text/plain": [
       "<keras.callbacks.History at 0x1c7b7cda748>"
      ]
     },
     "execution_count": 13,
     "metadata": {},
     "output_type": "execute_result"
    }
   ],
   "source": [
    "# A deeper autoencoder\n",
    "\n",
    "num_latent_vars = 20\n",
    "\n",
    "AE4 = Sequential()\n",
    "AE4.add(Dense(512, input_dim=pixels_per_image, activation='relu'))\n",
    "AE4.add(Dense(256, activation='relu'))\n",
    "AE4.add(Dense(num_latent_vars, activation='relu'))\n",
    "AE4.add(Dense(256, activation='relu'))\n",
    "AE4.add(Dense(512, activation='relu'))\n",
    "AE4.add(Dense(pixels_per_image, activation='sigmoid'))\n",
    "AE4.compile(optimizer='adadelta', loss='binary_crossentropy')\n",
    "\n",
    "np.random.seed(42)\n",
    "AE4.fit(X_train, X_train,\n",
    "        epochs=50, batch_size=128, shuffle=True,\n",
    "        verbose=2,\n",
    "        validation_data=(X_test, X_test))"
   ]
  },
  {
   "cell_type": "code",
   "execution_count": null,
   "metadata": {},
   "outputs": [],
   "source": [
    "predictions4 = AE4.predict(X_test)\n",
    "draw_predictions_set(predictions4)"
   ]
  }
 ],
 "metadata": {
  "kernelspec": {
   "display_name": "Python 3",
   "language": "python",
   "name": "python3"
  },
  "language_info": {
   "codemirror_mode": {
    "name": "ipython",
    "version": 3
   },
   "file_extension": ".py",
   "mimetype": "text/x-python",
   "name": "python",
   "nbconvert_exporter": "python",
   "pygments_lexer": "ipython3",
   "version": "3.7.3"
  }
 },
 "nbformat": 4,
 "nbformat_minor": 2
}
