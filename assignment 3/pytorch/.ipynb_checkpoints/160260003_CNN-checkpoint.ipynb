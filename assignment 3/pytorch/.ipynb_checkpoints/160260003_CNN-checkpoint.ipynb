{
 "cells": [
  {
   "cell_type": "code",
   "execution_count": 1,
   "metadata": {},
   "outputs": [
    {
     "name": "stderr",
     "output_type": "stream",
     "text": [
      "Using TensorFlow backend.\n"
     ]
    }
   ],
   "source": [
    "from __future__ import print_function\n",
    "import torch\n",
    "import torch.nn as nn\n",
    "import torch.nn.functional as F\n",
    "import torch.optim as optim\n",
    "import torchvision\n",
    "from torchvision import datasets, transforms\n",
    "import matplotlib.pyplot as plt\n",
    "import numpy as np\n",
    "plt.ion()  \n",
    "import matplotlib.pyplot as plt\n",
    "import numpy as np\n",
    "import keras\n",
    "from keras.models import Sequential\n",
    "from keras.layers import Dense, Dropout, Flatten,BatchNormalization\n",
    "from keras.layers import Conv2D, MaxPooling2D\n",
    "from sklearn.preprocessing import MinMaxScaler\n",
    "from sklearn.model_selection import train_test_split \n",
    "from keras.optimizers import Adam\n",
    "import cv2 \n",
    "import os\n",
    "import csv\n",
    "from stn import spatial_transformer_network as transformer\n",
    "from keras.preprocessing.image import ImageDataGenerator\n",
    "import tensorflow as tf"
   ]
  },
  {
   "cell_type": "code",
   "execution_count": 5,
   "metadata": {},
   "outputs": [],
   "source": [
    "def load(s):\n",
    "    number=[]\n",
    "    realnumber=[]\n",
    "    for x in os.listdir(s):\n",
    "        for y in os.listdir(s+'/'+x):\n",
    "            im=cv2.imread(s+'/'+x+'/'+y,0)\n",
    "            number.append(im/255)\n",
    "            realnumber.append(int(x))\n",
    "    return np.array(number),np.array(realnumber)\n",
    "            "
   ]
  },
  {
   "cell_type": "code",
   "execution_count": 6,
   "metadata": {},
   "outputs": [
    {
     "name": "stdout",
     "output_type": "stream",
     "text": [
      "(7490, 28, 28, 1)\n",
      "(7490,)\n"
     ]
    }
   ],
   "source": [
    "number , realnumber = load('trainData')\n",
    "number = np.ravel(number).reshape((7490,28, 28,1))\n",
    "print(number.shape)\n",
    "print(realnumber.shape)"
   ]
  },
  {
   "cell_type": "code",
   "execution_count": 30,
   "metadata": {},
   "outputs": [
    {
     "name": "stdout",
     "output_type": "stream",
     "text": [
      "(1873, 28, 28, 1)\n"
     ]
    }
   ],
   "source": [
    "traind,testd,ytrain,ytest  = train_test_split(number,realnumber,test_size=0.25,random_state=1) \n",
    "print(testd.shape)"
   ]
  },
  {
   "cell_type": "code",
   "execution_count": 10,
   "metadata": {},
   "outputs": [],
   "source": [
    "device = torch.device(\"cuda\" if torch.cuda.is_available() else \"cpu\")"
   ]
  },
  {
   "cell_type": "code",
   "execution_count": 11,
   "metadata": {},
   "outputs": [],
   "source": [
    "class Net(nn.Module):\n",
    "    def __init__(self):\n",
    "        super(Net, self).__init__()\n",
    "        self.conv1 = nn.Conv2d(1, 10, kernel_size=5)\n",
    "        self.conv2 = nn.Conv2d(10, 20, kernel_size=5)\n",
    "        self.conv2_drop = nn.Dropout2d()\n",
    "        self.fc1 = nn.Linear(320, 50)\n",
    "        self.fc2 = nn.Linear(50, 10)\n",
    "\n",
    "        # Spatial transformer localization-network\n",
    "        self.localization = nn.Sequential(\n",
    "            nn.Conv2d(1, 8, kernel_size=7),\n",
    "            nn.MaxPool2d(2, stride=2),\n",
    "            nn.ReLU(True),\n",
    "            nn.Conv2d(8, 10, kernel_size=5),\n",
    "            nn.MaxPool2d(2, stride=2),\n",
    "            nn.ReLU(True)\n",
    "        )\n",
    "\n",
    "        # Regressor for the 3 * 2 affine matrix\n",
    "        self.fc_loc = nn.Sequential(\n",
    "            nn.Linear(10 * 3 * 3, 32),\n",
    "            nn.ReLU(True),\n",
    "            nn.Linear(32, 3 * 2)\n",
    "        )\n",
    "\n",
    "        # Initialize the weights/bias with identity transformation\n",
    "        self.fc_loc[2].weight.data.zero_()\n",
    "        self.fc_loc[2].bias.data.copy_(torch.tensor([1, 0, 0, 0, 1, 0], dtype=torch.float))\n",
    "\n",
    "    # Spatial transformer network forward function\n",
    "    def stn(self, x):\n",
    "        xs = self.localization(x)\n",
    "        xs = xs.view(-1, 10 * 3 * 3)\n",
    "        theta = self.fc_loc(xs)\n",
    "        theta = theta.view(-1, 2, 3)\n",
    "\n",
    "        grid = F.affine_grid(theta, x.size())\n",
    "        x = F.grid_sample(x, grid)\n",
    "\n",
    "        return x\n",
    "\n",
    "    def forward(self, x):\n",
    "        # transform the input\n",
    "        x = self.stn(x)\n",
    "\n",
    "        # Perform the usual forward pass\n",
    "        x = F.relu(F.max_pool2d(self.conv1(x), 2))\n",
    "        x = F.relu(F.max_pool2d(self.conv2_drop(self.conv2(x)), 2))\n",
    "        x = x.view(-1, 320)\n",
    "        x = F.relu(self.fc1(x))\n",
    "        x = F.dropout(x, training=self.training)\n",
    "        x = self.fc2(x)\n",
    "        return F.log_softmax(x, dim=1)\n",
    "\n",
    "\n",
    "model = Net().to(device)"
   ]
  },
  {
   "cell_type": "code",
   "execution_count": 12,
   "metadata": {},
   "outputs": [
    {
     "data": {
      "text/plain": [
       "Net(\n",
       "  (conv1): Conv2d(1, 10, kernel_size=(5, 5), stride=(1, 1))\n",
       "  (conv2): Conv2d(10, 20, kernel_size=(5, 5), stride=(1, 1))\n",
       "  (conv2_drop): Dropout2d(p=0.5)\n",
       "  (fc1): Linear(in_features=320, out_features=50, bias=True)\n",
       "  (fc2): Linear(in_features=50, out_features=10, bias=True)\n",
       "  (localization): Sequential(\n",
       "    (0): Conv2d(1, 8, kernel_size=(7, 7), stride=(1, 1))\n",
       "    (1): MaxPool2d(kernel_size=2, stride=2, padding=0, dilation=1, ceil_mode=False)\n",
       "    (2): ReLU(inplace)\n",
       "    (3): Conv2d(8, 10, kernel_size=(5, 5), stride=(1, 1))\n",
       "    (4): MaxPool2d(kernel_size=2, stride=2, padding=0, dilation=1, ceil_mode=False)\n",
       "    (5): ReLU(inplace)\n",
       "  )\n",
       "  (fc_loc): Sequential(\n",
       "    (0): Linear(in_features=90, out_features=32, bias=True)\n",
       "    (1): ReLU(inplace)\n",
       "    (2): Linear(in_features=32, out_features=6, bias=True)\n",
       "  )\n",
       ")"
      ]
     },
     "execution_count": 12,
     "metadata": {},
     "output_type": "execute_result"
    }
   ],
   "source": [
    "model"
   ]
  },
  {
   "cell_type": "code",
   "execution_count": 14,
   "metadata": {},
   "outputs": [],
   "source": [
    "optimizer = optim.SGD(model.parameters(), lr=0.001)\n"
   ]
  },
  {
   "cell_type": "code",
   "execution_count": 17,
   "metadata": {},
   "outputs": [
    {
     "name": "stdout",
     "output_type": "stream",
     "text": [
      "torch.Size([1, 1, 28, 28]) torch.float32\n",
      "tensor([8]) torch.int64\n"
     ]
    }
   ],
   "source": [
    "datasetv=[]\n",
    "for z in range(len(train)):\n",
    "    temp=[]\n",
    "    datasetsx = torch.FloatTensor(np.array([train[z]]).reshape(1,1,28,28))\n",
    "    temp.append(datasetsx)\n",
    "    \n",
    "    datasetsy = torch.LongTensor(np.array([ytrain[z]]))\n",
    "    temp.append(datasetsy)\n",
    "    datasetv.append(temp)\n",
    "    \n",
    "for x,y in datasetv:\n",
    "    print(x.shape, x.dtype)\n",
    "    print(y, y.dtype)\n",
    "    break"
   ]
  },
  {
   "cell_type": "code",
   "execution_count": 18,
   "metadata": {},
   "outputs": [
    {
     "name": "stdout",
     "output_type": "stream",
     "text": [
      "torch.Size([1, 1, 28, 28]) torch.float32\n",
      "torch.Size([1]) torch.int64\n"
     ]
    }
   ],
   "source": [
    "datasett=[]\n",
    "for z in range(len(test)):\n",
    "    temp=[]\n",
    "    datasetsxt = torch.FloatTensor(np.array([test[z]]).reshape(1,1,28,28))\n",
    "    temp.append(datasetsxt)\n",
    "    \n",
    "    datasetsyt = torch.LongTensor(np.array([ytest[z]]))\n",
    "    temp.append(datasetsyt)\n",
    "    datasett.append(temp)\n",
    "    \n",
    "for x,y in datasett:\n",
    "    print(x.shape, x.dtype)\n",
    "    print(y.shape, y.dtype)\n",
    "    break"
   ]
  },
  {
   "cell_type": "code",
   "execution_count": 25,
   "metadata": {},
   "outputs": [],
   "source": [
    "def train(epoch):\n",
    "    model.train()\n",
    "    for batch_idx,(data, target) in enumerate(datasetv):\n",
    "        data, target = data.to(device), target.to(device)\n",
    "        optimizer.zero_grad()\n",
    "        output = model(data)\n",
    "        loss = F.nll_loss(output, target)\n",
    "        loss.backward()\n",
    "        optimizer.step()\n",
    "        if batch_idx % 500 == 0:\n",
    "            print('Train Epoch: {} [{}/{} ({:.0f}%)]\\tLoss: {:.6f}'.format(\n",
    "                epoch, batch_idx * len(data), len(datasetv),\n",
    "                100. * batch_idx / len(datasetv), loss.item()))\n",
    "\n",
    "# A simple test procedure to measure STN the performances on MNIST.\n",
    "\n",
    "\n",
    "\n",
    "def test():\n",
    "    with torch.no_grad():\n",
    "        model.eval()\n",
    "        test_loss = 0\n",
    "        correct = 0\n",
    "        for data, target in datasett:\n",
    "            data, target = data.to(device), target.to(device)\n",
    "            output = model(data)\n",
    "            # sum up batch loss\n",
    "            test_loss += F.nll_loss(output, target, size_average=False).item()\n",
    "            # get the index of the max log-probability\n",
    "            pred = output.max(1, keepdim=True)[1]\n",
    "            correct += pred.eq(target.view_as(pred)).sum().item()\n",
    "\n",
    "        test_loss /= 1873\n",
    "        print('\\nTest set: Average loss: {:.4f}, Accuracy: {}/{} ({:.0f}%)\\n'\n",
    "              .format(test_loss, correct, 1873,\n",
    "                      100. * correct / 1873))"
   ]
  },
  {
   "cell_type": "markdown",
   "metadata": {},
   "source": [
    "Visualizing the STN results\n",
    "---------------------------\n",
    "\n",
    "Now, we will inspect the results of our learned visual attention\n",
    "mechanism.\n",
    "\n",
    "We define a small helper function in order to visualize the\n",
    "transformations while training.\n",
    "\n"
   ]
  },
  {
   "cell_type": "code",
   "execution_count": 26,
   "metadata": {},
   "outputs": [
    {
     "name": "stdout",
     "output_type": "stream",
     "text": [
      "Train Epoch: 1 [0/5617 (0%)]\tLoss: 2.515848\n",
      "Train Epoch: 1 [500/5617 (9%)]\tLoss: 2.053609\n",
      "Train Epoch: 1 [1000/5617 (18%)]\tLoss: 1.751445\n",
      "Train Epoch: 1 [1500/5617 (27%)]\tLoss: 1.681979\n",
      "Train Epoch: 1 [2000/5617 (36%)]\tLoss: 2.466562\n",
      "Train Epoch: 1 [2500/5617 (45%)]\tLoss: 1.355245\n",
      "Train Epoch: 1 [3000/5617 (53%)]\tLoss: 2.625295\n",
      "Train Epoch: 1 [3500/5617 (62%)]\tLoss: 2.130863\n",
      "Train Epoch: 1 [4000/5617 (71%)]\tLoss: 2.237971\n",
      "Train Epoch: 1 [4500/5617 (80%)]\tLoss: 0.366557\n",
      "Train Epoch: 1 [5000/5617 (89%)]\tLoss: 0.157020\n",
      "Train Epoch: 1 [5500/5617 (98%)]\tLoss: 0.359852\n",
      "\n",
      "Test set: Average loss: 1.2546, Accuracy: 1016/1873 (54%)\n",
      "\n",
      "Train Epoch: 2 [0/5617 (0%)]\tLoss: 1.364073\n",
      "Train Epoch: 2 [500/5617 (9%)]\tLoss: 0.181174\n",
      "Train Epoch: 2 [1000/5617 (18%)]\tLoss: 0.550606\n",
      "Train Epoch: 2 [1500/5617 (27%)]\tLoss: 1.219063\n",
      "Train Epoch: 2 [2000/5617 (36%)]\tLoss: 1.758215\n",
      "Train Epoch: 2 [2500/5617 (45%)]\tLoss: 0.435990\n",
      "Train Epoch: 2 [3000/5617 (53%)]\tLoss: 2.517928\n",
      "Train Epoch: 2 [3500/5617 (62%)]\tLoss: 0.497021\n",
      "Train Epoch: 2 [4000/5617 (71%)]\tLoss: 0.794923\n",
      "Train Epoch: 2 [4500/5617 (80%)]\tLoss: 0.221663\n",
      "Train Epoch: 2 [5000/5617 (89%)]\tLoss: 8.144063\n",
      "Train Epoch: 2 [5500/5617 (98%)]\tLoss: 0.072166\n",
      "\n",
      "Test set: Average loss: 0.7781, Accuracy: 1398/1873 (75%)\n",
      "\n",
      "Train Epoch: 3 [0/5617 (0%)]\tLoss: 1.594437\n",
      "Train Epoch: 3 [500/5617 (9%)]\tLoss: 0.706612\n",
      "Train Epoch: 3 [1000/5617 (18%)]\tLoss: 0.003715\n",
      "Train Epoch: 3 [1500/5617 (27%)]\tLoss: 0.740298\n",
      "Train Epoch: 3 [2000/5617 (36%)]\tLoss: 1.562670\n",
      "Train Epoch: 3 [2500/5617 (45%)]\tLoss: 0.007781\n",
      "Train Epoch: 3 [3000/5617 (53%)]\tLoss: 0.265611\n",
      "Train Epoch: 3 [3500/5617 (62%)]\tLoss: 0.413962\n",
      "Train Epoch: 3 [4000/5617 (71%)]\tLoss: 0.069435\n",
      "Train Epoch: 3 [4500/5617 (80%)]\tLoss: 0.050211\n",
      "Train Epoch: 3 [5000/5617 (89%)]\tLoss: 2.410465\n",
      "Train Epoch: 3 [5500/5617 (98%)]\tLoss: 0.204309\n",
      "\n",
      "Test set: Average loss: 0.4995, Accuracy: 1625/1873 (87%)\n",
      "\n",
      "Train Epoch: 4 [0/5617 (0%)]\tLoss: 1.481043\n",
      "Train Epoch: 4 [500/5617 (9%)]\tLoss: 1.396473\n",
      "Train Epoch: 4 [1000/5617 (18%)]\tLoss: 0.318504\n",
      "Train Epoch: 4 [1500/5617 (27%)]\tLoss: 0.261765\n",
      "Train Epoch: 4 [2000/5617 (36%)]\tLoss: 0.023777\n",
      "Train Epoch: 4 [2500/5617 (45%)]\tLoss: 0.003947\n",
      "Train Epoch: 4 [3000/5617 (53%)]\tLoss: 0.020153\n",
      "Train Epoch: 4 [3500/5617 (62%)]\tLoss: 0.591810\n",
      "Train Epoch: 4 [4000/5617 (71%)]\tLoss: 0.002969\n",
      "Train Epoch: 4 [4500/5617 (80%)]\tLoss: 0.257016\n",
      "Train Epoch: 4 [5000/5617 (89%)]\tLoss: 0.007174\n",
      "Train Epoch: 4 [5500/5617 (98%)]\tLoss: 0.034386\n",
      "\n",
      "Test set: Average loss: 0.2779, Accuracy: 1731/1873 (92%)\n",
      "\n",
      "Train Epoch: 5 [0/5617 (0%)]\tLoss: 0.040125\n",
      "Train Epoch: 5 [500/5617 (9%)]\tLoss: 0.324302\n",
      "Train Epoch: 5 [1000/5617 (18%)]\tLoss: 0.049297\n",
      "Train Epoch: 5 [1500/5617 (27%)]\tLoss: 0.392340\n",
      "Train Epoch: 5 [2000/5617 (36%)]\tLoss: 2.975246\n",
      "Train Epoch: 5 [2500/5617 (45%)]\tLoss: 0.002396\n",
      "Train Epoch: 5 [3000/5617 (53%)]\tLoss: 0.144288\n",
      "Train Epoch: 5 [3500/5617 (62%)]\tLoss: 0.008705\n",
      "Train Epoch: 5 [4000/5617 (71%)]\tLoss: 0.000185\n",
      "Train Epoch: 5 [4500/5617 (80%)]\tLoss: 0.004177\n",
      "Train Epoch: 5 [5000/5617 (89%)]\tLoss: 0.039548\n",
      "Train Epoch: 5 [5500/5617 (98%)]\tLoss: 0.017022\n",
      "\n",
      "Test set: Average loss: 0.2082, Accuracy: 1756/1873 (94%)\n",
      "\n",
      "Train Epoch: 6 [0/5617 (0%)]\tLoss: 0.524760\n",
      "Train Epoch: 6 [500/5617 (9%)]\tLoss: 0.224211\n",
      "Train Epoch: 6 [1000/5617 (18%)]\tLoss: 0.004166\n",
      "Train Epoch: 6 [1500/5617 (27%)]\tLoss: 0.787865\n",
      "Train Epoch: 6 [2000/5617 (36%)]\tLoss: 0.635151\n",
      "Train Epoch: 6 [2500/5617 (45%)]\tLoss: 0.031726\n",
      "Train Epoch: 6 [3000/5617 (53%)]\tLoss: 0.011522\n",
      "Train Epoch: 6 [3500/5617 (62%)]\tLoss: 0.602854\n",
      "Train Epoch: 6 [4000/5617 (71%)]\tLoss: 0.041707\n",
      "Train Epoch: 6 [4500/5617 (80%)]\tLoss: 0.002152\n",
      "Train Epoch: 6 [5000/5617 (89%)]\tLoss: 0.000185\n",
      "Train Epoch: 6 [5500/5617 (98%)]\tLoss: 0.431956\n",
      "\n",
      "Test set: Average loss: 0.1531, Accuracy: 1797/1873 (96%)\n",
      "\n",
      "Train Epoch: 7 [0/5617 (0%)]\tLoss: 0.539070\n",
      "Train Epoch: 7 [500/5617 (9%)]\tLoss: 0.235641\n",
      "Train Epoch: 7 [1000/5617 (18%)]\tLoss: 0.006831\n",
      "Train Epoch: 7 [1500/5617 (27%)]\tLoss: 0.001574\n",
      "Train Epoch: 7 [2000/5617 (36%)]\tLoss: 0.462824\n",
      "Train Epoch: 7 [2500/5617 (45%)]\tLoss: 0.062203\n",
      "Train Epoch: 7 [3000/5617 (53%)]\tLoss: 0.065053\n",
      "Train Epoch: 7 [3500/5617 (62%)]\tLoss: 0.055857\n",
      "Train Epoch: 7 [4000/5617 (71%)]\tLoss: 0.082981\n",
      "Train Epoch: 7 [4500/5617 (80%)]\tLoss: 0.546467\n",
      "Train Epoch: 7 [5000/5617 (89%)]\tLoss: 0.402314\n",
      "Train Epoch: 7 [5500/5617 (98%)]\tLoss: 0.250887\n",
      "\n",
      "Test set: Average loss: 0.5193, Accuracy: 1562/1873 (83%)\n",
      "\n",
      "Train Epoch: 8 [0/5617 (0%)]\tLoss: 0.005874\n",
      "Train Epoch: 8 [500/5617 (9%)]\tLoss: 0.286680\n",
      "Train Epoch: 8 [1000/5617 (18%)]\tLoss: 0.350514\n",
      "Train Epoch: 8 [1500/5617 (27%)]\tLoss: 0.000000\n",
      "Train Epoch: 8 [2000/5617 (36%)]\tLoss: 1.630676\n",
      "Train Epoch: 8 [2500/5617 (45%)]\tLoss: 0.004810\n",
      "Train Epoch: 8 [3000/5617 (53%)]\tLoss: 0.006371\n",
      "Train Epoch: 8 [3500/5617 (62%)]\tLoss: 0.180448\n",
      "Train Epoch: 8 [4000/5617 (71%)]\tLoss: 0.000370\n",
      "Train Epoch: 8 [4500/5617 (80%)]\tLoss: 0.000016\n",
      "Train Epoch: 8 [5000/5617 (89%)]\tLoss: 0.000000\n",
      "Train Epoch: 8 [5500/5617 (98%)]\tLoss: 0.066370\n",
      "\n",
      "Test set: Average loss: 0.0929, Accuracy: 1833/1873 (98%)\n",
      "\n",
      "Train Epoch: 9 [0/5617 (0%)]\tLoss: 0.000390\n",
      "Train Epoch: 9 [500/5617 (9%)]\tLoss: 0.098184\n",
      "Train Epoch: 9 [1000/5617 (18%)]\tLoss: 0.002249\n",
      "Train Epoch: 9 [1500/5617 (27%)]\tLoss: 0.000768\n",
      "Train Epoch: 9 [2000/5617 (36%)]\tLoss: 0.037345\n",
      "Train Epoch: 9 [2500/5617 (45%)]\tLoss: 0.000026\n",
      "Train Epoch: 9 [3000/5617 (53%)]\tLoss: 0.699576\n",
      "Train Epoch: 9 [3500/5617 (62%)]\tLoss: 0.387007\n",
      "Train Epoch: 9 [4000/5617 (71%)]\tLoss: 0.003175\n",
      "Train Epoch: 9 [4500/5617 (80%)]\tLoss: 0.000042\n",
      "Train Epoch: 9 [5000/5617 (89%)]\tLoss: 0.000626\n",
      "Train Epoch: 9 [5500/5617 (98%)]\tLoss: 0.496528\n",
      "\n",
      "Test set: Average loss: 0.1475, Accuracy: 1818/1873 (97%)\n",
      "\n"
     ]
    },
    {
     "data": {
      "image/png": "[encoded data removed]",
      "text/plain": [
       "<Figure size 432x288 with 2 Axes>"
      ]
     },
     "metadata": {
      "needs_background": "light"
     },
     "output_type": "display_data"
    }
   ],
   "source": [
    "def convert_image_np(inp):\n",
    "    \"\"\"Convert a Tensor to numpy image.\"\"\"\n",
    "    inp = inp.numpy().transpose((1, 2, 0))\n",
    "    mean = np.array([0.485, 0.456, 0.406])\n",
    "    std = np.array([0.229, 0.224, 0.225])\n",
    "    inp = std * inp + mean\n",
    "    inp = np.clip(inp, 0, 1)\n",
    "    return inp\n",
    "\n",
    "# We want to visualize the output of the spatial transformers layer\n",
    "# after the training, we visualize a batch of input images and\n",
    "# the corresponding transformed batch using STN.\n",
    "\n",
    "\n",
    "def visualize_stn():\n",
    "    with torch.no_grad():\n",
    "        # Get a batch of training data\n",
    "        data = next(iter(datasett))[0].to(device)\n",
    "\n",
    "        input_tensor = data.cpu()\n",
    "        transformed_input_tensor = model.stn(data).cpu()\n",
    "\n",
    "        in_grid = convert_image_np(\n",
    "            torchvision.utils.make_grid(input_tensor))\n",
    "\n",
    "        out_grid = convert_image_np(\n",
    "            torchvision.utils.make_grid(transformed_input_tensor))\n",
    "\n",
    "        # Plot the results side-by-side\n",
    "        f, axarr = plt.subplots(1, 2)\n",
    "        axarr[0].imshow(in_grid)\n",
    "        axarr[0].set_title('Dataset Images')\n",
    "\n",
    "        axarr[1].imshow(out_grid)\n",
    "        axarr[1].set_title('Transformed Images')\n",
    "\n",
    "for epoch in range(1,10):\n",
    "    train(epoch)\n",
    "    test()\n",
    "\n",
    "# Visualize the STN transformation on some input batch\n",
    "visualize_stn()\n",
    "\n",
    "plt.ioff()\n",
    "plt.show()"
   ]
  },
  {
   "cell_type": "code",
   "execution_count": 31,
   "metadata": {},
   "outputs": [
    {
     "data": {
      "image/png": "[encoded data removed]",
      "text/plain": [
       "<Figure size 432x288 with 1 Axes>"
      ]
     },
     "metadata": {
      "needs_background": "light"
     },
     "output_type": "display_data"
    },
    {
     "name": "stdout",
     "output_type": "stream",
     "text": [
      "1\n"
     ]
    }
   ],
   "source": [
    "x = model(torch.FloatTensor(np.array([traind[1]]).reshape(1,1,28,28)))\n",
    "plt.imshow(traind[1].reshape(28,28))\n",
    "plt.show()\n",
    "print(np.argmax(x.detach().numpy()))"
   ]
  },
  {
   "cell_type": "code",
   "execution_count": 32,
   "metadata": {},
   "outputs": [
    {
     "data": {
      "text/plain": [
       "(2510, 28, 28, 1)"
      ]
     },
     "execution_count": 32,
     "metadata": {},
     "output_type": "execute_result"
    }
   ],
   "source": [
    "s='testData/DigitTest'\n",
    "name=[]\n",
    "immatrix=[]\n",
    "for x in os.listdir(s):\n",
    "    im=cv2.imread(s+'/'+x,0)\n",
    "    immatrix.append(im/256)\n",
    "    name.append(os.path.splitext(x)[0])\n",
    "test=np.array(immatrix).reshape((2510, 28, 28,1))\n",
    "test.shape"
   ]
  },
  {
   "cell_type": "code",
   "execution_count": 33,
   "metadata": {},
   "outputs": [
    {
     "name": "stdout",
     "output_type": "stream",
     "text": [
      "6\n"
     ]
    }
   ],
   "source": [
    "ll=[]\n",
    "for x in test:\n",
    "    iki = model(torch.FloatTensor(np.array([x]).reshape(1,1,28,28)))\n",
    "    l=(np.argmax(iki.detach().numpy()))\n",
    "    ll.append(l)\n",
    "print(ll[1])"
   ]
  },
  {
   "cell_type": "code",
   "execution_count": 34,
   "metadata": {},
   "outputs": [],
   "source": [
    "with open('predictall.csv', mode='w') as pre:\n",
    "    pre_writer = csv.writer(pre, delimiter=',', quotechar='\"', quoting=csv.QUOTE_MINIMAL)\n",
    "    pre_writer.writerow(['Id', 'Category'])\n",
    "    for x in range(len(ll)):\n",
    "        pre_writer.writerow([ll[x]])"
   ]
  },
  {
   "cell_type": "code",
   "execution_count": null,
   "metadata": {},
   "outputs": [],
   "source": [
    "initial = np.array([[1., 0, 0], [0, 1., 0]])\n",
    "initial = initial.astype('float32').flatten()"
   ]
  }
 ],
 "metadata": {
  "kernelspec": {
   "display_name": "Python 3",
   "language": "python",
   "name": "python3"
  },
  "language_info": {
   "codemirror_mode": {
    "name": "ipython",
    "version": 3
   },
   "file_extension": ".py",
   "mimetype": "text/x-python",
   "name": "python",
   "nbconvert_exporter": "python",
   "pygments_lexer": "ipython3",
   "version": "3.7.5"
  }
 },
 "nbformat": 4,
 "nbformat_minor": 1
}
